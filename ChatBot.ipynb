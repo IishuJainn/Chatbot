{
  "nbformat": 4,
  "nbformat_minor": 0,
  "metadata": {
    "colab": {
      "provenance": []
    },
    "kernelspec": {
      "name": "python3",
      "display_name": "Python 3"
    },
    "language_info": {
      "name": "python"
    }
  },
  "cells": [
    {
      "cell_type": "code",
      "execution_count": null,
      "metadata": {
        "id": "bAPA3Fl7BRdw"
      },
      "outputs": [],
      "source": [
        "import numpy as np\n",
        "import nltk\n",
        "import string \n",
        "import random"
      ]
    },
    {
      "cell_type": "code",
      "source": [
        "f=open('/content/Indian Army.txt','r',errors='ignore')"
      ],
      "metadata": {
        "id": "63XTYItzSi1d"
      },
      "execution_count": null,
      "outputs": []
    },
    {
      "cell_type": "code",
      "source": [
        "raw_doc=f.read()"
      ],
      "metadata": {
        "id": "UbBo8x4JS4AK"
      },
      "execution_count": null,
      "outputs": []
    },
    {
      "cell_type": "code",
      "source": [
        "raw_doc= raw_doc.lower()\n",
        "nltk.download('punkt')\n",
        "nltk.download('wordnet')\n",
        "nltk.download('omw-1.4')\n",
        "sentence_tokens= nltk.sent_tokenize(raw_doc)\n",
        "word_tokens= nltk.word_tokenize(raw_doc)"
      ],
      "metadata": {
        "colab": {
          "base_uri": "https://localhost:8080/"
        },
        "id": "Lx3vh9iBTBT8",
        "outputId": "e1278a56-c1f7-4e85-f1d5-103b3bc60422"
      },
      "execution_count": null,
      "outputs": [
        {
          "output_type": "stream",
          "name": "stderr",
          "text": [
            "[nltk_data] Downloading package punkt to /root/nltk_data...\n",
            "[nltk_data]   Package punkt is already up-to-date!\n",
            "[nltk_data] Downloading package wordnet to /root/nltk_data...\n",
            "[nltk_data]   Package wordnet is already up-to-date!\n",
            "[nltk_data] Downloading package omw-1.4 to /root/nltk_data...\n",
            "[nltk_data]   Package omw-1.4 is already up-to-date!\n"
          ]
        }
      ]
    },
    {
      "cell_type": "code",
      "source": [
        "sentence_tokens[:5]"
      ],
      "metadata": {
        "colab": {
          "base_uri": "https://localhost:8080/"
        },
        "id": "Adq3rs7MUaqZ",
        "outputId": "f2fbe1f1-ea9e-4408-ff6f-a331bd5df652"
      },
      "execution_count": null,
      "outputs": [
        {
          "output_type": "execute_result",
          "data": {
            "text/plain": [
              "['\\npage semi-protected\\nindian army\\nfrom wikipedia, the free encyclopedia\\njump to navigationjump to search\\nthis article is about the indian army (since 1947).',\n",
              " 'for the pre 1947 force, see british indian army.',\n",
              " 'for others, see military history of india.',\n",
              " 'indian army\\nadgpi indian army.svg\\nensign of the indian army\\nfounded\\t26 january 1950; 72 years ago (as current service)\\n1 april 1895; 127 years ago (as british indian army)\\n\\ncountry\\t india\\ntype\\tarmy\\nrole\\tland warfare\\nsize\\t\\n1,237,117 active personnel[1]\\n960,000 reserve personnel[2]\\n~296 manned aircraft\\npart of\\t indian armed forces\\nheadquarters\\tintegrated defence headquarters, ministry of defence, new delhi\\nmotto(s)\\tसेवा परमो धर्म: (sanskrit)\\nsevā paramo dharmaḥ (iso)\\ntransl.',\n",
              " '\"service before self\"\\ncolours\\tgold, red and black\\n     \\nmarch\\t\\nquick: qadam qadam badhaye ja play (help·info)\\n(keep stepping forward)\\nslow: samman guard play (help·info)\\n(the guard of honour)\\nanniversaries\\tarmy day: 15 january\\nengagements\\tfirst kashmir war,\\nannexation of goa,\\nsino-indian war of 1962,\\nnathu la and cho la clashes,\\nindo-pakistani war of 1965,\\nindo-pakistani war of 1971,\\nsiachen conflict,\\nkargil war,\\n2001–2002 india–pakistan standoff,\\n2008 indo-pakistani standoff,\\n2011 india–pakistan border skirmish,\\n2013 india–pakistan border skirmishes,\\n2014–2015 india–pakistan border skirmishes,\\n2016 indian line of control strike,\\n2016–2018 india–pakistan border skirmishes,\\n2019 india–pakistan border skirmishes,\\n2020–2021 india–pakistan border skirmishes,\\n2020–2021 china–india skirmishes\\nwebsite\\tindianarmy.nic.in\\ncommanders\\ncommander-in-chief\\tindia president droupadi murmu\\nchief of defence staff (cds)\\t general anil chauhan\\nchief of the army staff (coas)\\t general manoj pande\\nvice chief of the army staff (vcoas)\\t lieutenant general b. s. raju\\nnotable\\ncommanders\\t\\n field marshal k. m. cariappa\\n field marshal sam manekshaw\\n general k. s. thimayya\\ninsignia\\nflag\\tflag of indian army.svg\\naircraft flown\\nattack helicopter\\thal rudra, hal prachand\\nutility helicopter\\thal dhruv, hal chetak, hal cheetah\\nthe indian army is the land-based branch and the largest component of the indian armed forces.']"
            ]
          },
          "metadata": {},
          "execution_count": 53
        }
      ]
    },
    {
      "cell_type": "code",
      "source": [
        "word_tokens[:2]"
      ],
      "metadata": {
        "colab": {
          "base_uri": "https://localhost:8080/"
        },
        "id": "KoAoI6LCVFMX",
        "outputId": "efcf91d2-33a2-4487-e87d-8bdeb80f5977"
      },
      "execution_count": null,
      "outputs": [
        {
          "output_type": "execute_result",
          "data": {
            "text/plain": [
              "['page', 'semi-protected']"
            ]
          },
          "metadata": {},
          "execution_count": 54
        }
      ]
    },
    {
      "cell_type": "code",
      "source": [
        "lemmer = nltk.stem.WordNetLemmatizer()\n",
        "def LemTokens(tokens):\n",
        "  return [lemmer.lemmatize(token) for token in tokens]\n",
        "remove_punc_dic = dict((ord(punct), None) for punct in string.punctuation)\n",
        "def LemNormalize(text):\n",
        "  return LemTokens(nltk.word_tokenize(text.lower().translate(remove_punc_dic)))  "
      ],
      "metadata": {
        "id": "7_N6sDoJVUKh"
      },
      "execution_count": null,
      "outputs": []
    },
    {
      "cell_type": "code",
      "source": [
        "greet_inputs = ('hello','hi','hii','whassup','how are you?','how are you')\n",
        "greet_responses= ('hii','hey','Hey there!','Yes')\n",
        "def greet(sentence):\n",
        "  for word in sentence.split():\n",
        "    if word.lower() in greet_inputs:\n",
        "      return random.choice(greet_responses)"
      ],
      "metadata": {
        "id": "0aCofr7kWwab"
      },
      "execution_count": null,
      "outputs": []
    },
    {
      "cell_type": "code",
      "source": [
        "from sklearn.feature_extraction.text import TfidfVectorizer\n",
        "from sklearn.metrics.pairwise import cosine_similarity\n"
      ],
      "metadata": {
        "id": "ZIFwGOH6XPRd"
      },
      "execution_count": null,
      "outputs": []
    },
    {
      "cell_type": "code",
      "source": [
        "def response(user_response):\n",
        "  robol_response =''\n",
        "  TfidfVec = TfidfVectorizer(tokenizer= LemNormalize, stop_words='english')\n",
        "  Tfidf = TfidfVec.fit_transform(sentence_tokens)\n",
        "  vals = cosine_similarity(Tfidf[-1],Tfidf)\n",
        "  idx = vals.argsort()[0][-2]\n",
        "  flat = vals.flatten()\n",
        "  flat.sort()\n",
        "  req_tfidf =flat[-2]\n",
        "  if (req_tfidf == 0):\n",
        "    robol_response = robol_response + \"I am sorry. Unable to understand you!\"\n",
        "    return robol_response\n",
        "  else:\n",
        "     robol_response = robol_response+ sentence_tokens[idx]\n",
        "     return robol_response \n"
      ],
      "metadata": {
        "id": "k9L2uTNqYymY"
      },
      "execution_count": null,
      "outputs": []
    },
    {
      "cell_type": "code",
      "source": [
        "flag = True\n",
        "print(\"Hello I am Learning Bot. Start Typing your Text after  greeting to talk to me. For enidng Convo type bye!\")\n",
        "while(flag == True):\n",
        "  user_response = input()\n",
        "  user_response = user_response.lower()\n",
        "  if(user_response != 'bye'):\n",
        "    if(user_response == 'thank you' or user_response == 'thanks'):\n",
        "      flag = False\n",
        "      print(\"Bot: You are Welcome..\")\n",
        "    else:\n",
        "      if(greet(user_response) != None):\n",
        "        print('Bot:' + greet(user_response))\n",
        "      else:\n",
        "        sentence_tokens.append(user_response)\n",
        "        word_tokens = word_tokens + nltk.word_tokenize(user_response)\n",
        "        final_words = list(set(word_tokens))\n",
        "        print('Bot: ' ,end='')\n",
        "        print(response(user_response))\n",
        "        sentence_tokens.remove(user_response)\n",
        "  else:\n",
        "      flag=False\n",
        "      print(\"Bot: GoodBye!\")    \n",
        "\n"
      ],
      "metadata": {
        "colab": {
          "base_uri": "https://localhost:8080/"
        },
        "id": "S5qlHiw5bX15",
        "outputId": "a14c1291-7cca-40e9-a5bd-c5cb5ac0ccaa"
      },
      "execution_count": null,
      "outputs": [
        {
          "output_type": "stream",
          "name": "stdout",
          "text": [
            "Hello I am Learning Bot. Start Typing your Text after  greeting to talk to me. For enidng Convo type bye!\n",
            "kargil\n",
            "Bot: kargil : a wake up call.\n",
            "dead\n",
            "Bot: I am sorry. Unable to understand you!\n",
            "kashmir\n",
            "Bot: greater kashmir.\n",
            "thanks\n",
            "Bot: You are Welcome..\n"
          ]
        }
      ]
    },
    {
      "cell_type": "code",
      "source": [],
      "metadata": {
        "id": "PpuHFgEakIjd"
      },
      "execution_count": null,
      "outputs": []
    }
  ]
}